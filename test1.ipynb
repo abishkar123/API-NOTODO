{
  "nbformat": 4,
  "nbformat_minor": 0,
  "metadata": {
    "colab": {
      "provenance": [],
      "toc_visible": true,
      "authorship_tag": "ABX9TyNBlnAHfuvl9UhBlprL4qaU",
      "include_colab_link": true
    },
    "kernelspec": {
      "name": "python3",
      "display_name": "Python 3"
    },
    "language_info": {
      "name": "python"
    }
  },
  "cells": [
    {
      "cell_type": "markdown",
      "metadata": {
        "id": "view-in-github",
        "colab_type": "text"
      },
      "source": [
        "<a href=\"https://colab.research.google.com/github/abishkar123/API-NOTODO/blob/main/test1.ipynb\" target=\"_parent\"><img src=\"https://colab.research.google.com/assets/colab-badge.svg\" alt=\"Open In Colab\"/></a>"
      ]
    },
    {
      "cell_type": "code",
      "execution_count": null,
      "metadata": {
        "id": "qXQ4NhOQPhSf"
      },
      "outputs": [],
      "source": [
        "!pip install openai pytube -q\n",
        "!pip install git+https://github.com/openai/whisper.git"
      ]
    },
    {
      "cell_type": "code",
      "source": [
        "import openai as openai_client\n",
        "import whisper\n",
        "import pandas as pd\n",
        "from pytube import YouTube\n",
        "from getpass import getpass\n",
        "\n",
        "COMPELETIONS_MODEL = 'text_davinci-003'\n",
        "EMBEDDINGS_MODEL = \"text-embedding-ada-002\"\n",
        "openai_client.api_key = getpass(\"ENTER YOUR Open AI key\")\n"
      ],
      "metadata": {
        "colab": {
          "base_uri": "https://localhost:8080/"
        },
        "id": "usxkfrvGQXeX",
        "outputId": "82efc3d8-4b4c-4571-9eb3-48533ff74c38"
      },
      "execution_count": null,
      "outputs": [
        {
          "name": "stdout",
          "output_type": "stream",
          "text": [
            "ENTER YOUR Open AI key··········\n"
          ]
        }
      ]
    },
    {
      "cell_type": "code",
      "source": [
        "model = whisper.load_model ('base')"
      ],
      "metadata": {
        "colab": {
          "base_uri": "https://localhost:8080/"
        },
        "id": "F-jpOe4xVrlG",
        "outputId": "76de3d76-c424-483c-eee9-df76b4f5a1ca"
      },
      "execution_count": null,
      "outputs": [
        {
          "output_type": "stream",
          "name": "stderr",
          "text": [
            "100%|███████████████████████████████████████| 139M/139M [00:01<00:00, 86.0MiB/s]\n"
          ]
        }
      ]
    },
    {
      "cell_type": "code",
      "source": [
        "audio_url = \"https://content.blubrry.com/talkinglaw/thedealroom273.mp3\"\n",
        "audio = YouTube(audio_url)\n",
        "\n"
      ],
      "metadata": {
        "id": "z-6RMF-nfkga"
      },
      "execution_count": 65,
      "outputs": []
    },
    {
      "cell_type": "code",
      "source": [
        "import requests\n",
        "\n",
        "audio_url = \"https://content.blubrry.com/talkinglaw/thedealroom273.mp3\"\n",
        "\n",
        "response = requests.get(audio_url)\n",
        "\n",
        "with open(\"audio.mp4\", \"wb\") as file:\n",
        "    file.write(response.content)"
      ],
      "metadata": {
        "id": "bXC6Lc40jxJJ"
      },
      "execution_count": null,
      "outputs": []
    },
    {
      "cell_type": "code",
      "source": [
        "!pip install textrank\n",
        "\n"
      ],
      "metadata": {
        "colab": {
          "base_uri": "https://localhost:8080/"
        },
        "id": "QJI-9zyEv0pQ",
        "outputId": "67ccfc40-89ff-4c56-f32a-72f04ddda221"
      },
      "execution_count": 79,
      "outputs": [
        {
          "output_type": "stream",
          "name": "stdout",
          "text": [
            "Requirement already satisfied: textrank in /usr/local/lib/python3.10/dist-packages (0.1.0)\n"
          ]
        }
      ]
    },
    {
      "cell_type": "code",
      "source": [
        "!pip install textrank\n",
        "\n",
        "\n",
        "!pip install nltk\n",
        "from nltk.corpus import stopwords\n",
        "from nltk.tokenize import word_tokenize, sent_tokenize\n",
        "\n",
        "import nltk\n",
        "# from nltk.summarize import summarize\n",
        "from textrank import summarize\n",
        "\n",
        "blog_post_url = 'https://www.aspectlegal.com.au/ep-278-the-right-way-to-grow-and-the-right-time-to-sell-part-1/s'\n",
        "response = requests.get(blog_post_url)\n",
        "soup = BeautifulSoup(response.content, 'html.parser')\n",
        "\n",
        "blog_post_text = soup.get_text()\n",
        "highlights = summarize(blog_post_text, ratio=0.2)"
      ],
      "metadata": {
        "colab": {
          "base_uri": "https://localhost:8080/",
          "height": 487
        },
        "id": "MN5rH37YxQcE",
        "outputId": "20b34eb9-f65a-449b-adef-d9d6f71a8c69"
      },
      "execution_count": 84,
      "outputs": [
        {
          "output_type": "stream",
          "name": "stdout",
          "text": [
            "Requirement already satisfied: textrank in /usr/local/lib/python3.10/dist-packages (0.1.0)\n",
            "Requirement already satisfied: nltk in /usr/local/lib/python3.10/dist-packages (3.8.1)\n",
            "Requirement already satisfied: click in /usr/local/lib/python3.10/dist-packages (from nltk) (8.1.7)\n",
            "Requirement already satisfied: joblib in /usr/local/lib/python3.10/dist-packages (from nltk) (1.4.0)\n",
            "Requirement already satisfied: regex>=2021.8.3 in /usr/local/lib/python3.10/dist-packages (from nltk) (2023.12.25)\n",
            "Requirement already satisfied: tqdm in /usr/local/lib/python3.10/dist-packages (from nltk) (4.66.2)\n"
          ]
        },
        {
          "output_type": "error",
          "ename": "ImportError",
          "evalue": "cannot import name 'summarize' from 'textrank' (/usr/local/lib/python3.10/dist-packages/textrank.py)",
          "traceback": [
            "\u001b[0;31m---------------------------------------------------------------------------\u001b[0m",
            "\u001b[0;31mImportError\u001b[0m                               Traceback (most recent call last)",
            "\u001b[0;32m<ipython-input-84-8ecd51dfec9e>\u001b[0m in \u001b[0;36m<cell line: 10>\u001b[0;34m()\u001b[0m\n\u001b[1;32m      8\u001b[0m \u001b[0;32mimport\u001b[0m \u001b[0mnltk\u001b[0m\u001b[0;34m\u001b[0m\u001b[0;34m\u001b[0m\u001b[0m\n\u001b[1;32m      9\u001b[0m \u001b[0;31m# from nltk.summarize import summarize\u001b[0m\u001b[0;34m\u001b[0m\u001b[0;34m\u001b[0m\u001b[0m\n\u001b[0;32m---> 10\u001b[0;31m \u001b[0;32mfrom\u001b[0m \u001b[0mtextrank\u001b[0m \u001b[0;32mimport\u001b[0m \u001b[0msummarize\u001b[0m\u001b[0;34m\u001b[0m\u001b[0;34m\u001b[0m\u001b[0m\n\u001b[0m\u001b[1;32m     11\u001b[0m \u001b[0;34m\u001b[0m\u001b[0m\n\u001b[1;32m     12\u001b[0m \u001b[0mblog_post_url\u001b[0m \u001b[0;34m=\u001b[0m \u001b[0;34m'https://www.aspectlegal.com.au/ep-278-the-right-way-to-grow-and-the-right-time-to-sell-part-1/s'\u001b[0m\u001b[0;34m\u001b[0m\u001b[0;34m\u001b[0m\u001b[0m\n",
            "\u001b[0;31mImportError\u001b[0m: cannot import name 'summarize' from 'textrank' (/usr/local/lib/python3.10/dist-packages/textrank.py)",
            "",
            "\u001b[0;31m---------------------------------------------------------------------------\u001b[0;32m\nNOTE: If your import is failing due to a missing package, you can\nmanually install dependencies using either !pip or !apt.\n\nTo view examples of installing some common dependencies, click the\n\"Open Examples\" button below.\n\u001b[0;31m---------------------------------------------------------------------------\u001b[0m\n"
          ],
          "errorDetails": {
            "actions": [
              {
                "action": "open_url",
                "actionText": "Open Examples",
                "url": "/notebooks/snippets/importing_libraries.ipynb"
              }
            ]
          }
        }
      ]
    },
    {
      "cell_type": "code",
      "source": [],
      "metadata": {
        "id": "Ji_lyonfqoRO"
      },
      "execution_count": null,
      "outputs": []
    }
  ]
}